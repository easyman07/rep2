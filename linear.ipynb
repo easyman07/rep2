{
 "cells": [
  {
   "cell_type": "code",
   "execution_count": 6,
   "metadata": {},
   "outputs": [],
   "source": [
    "import numpy as np\n",
    "import matplotlib.pyplot as plt\n",
    "\n"
   ]
  },
  {
   "cell_type": "code",
   "execution_count": 7,
   "metadata": {},
   "outputs": [],
   "source": [
    "# Step 2: Entering Dataset\n",
    "n = 100  # Number of values\n",
    "\n",
    "X1 = np.array([1, 2, 3, 4, 5])  # First independent variable\n",
    "X2 = np.array([1, 4, 6, 8, 10])  # Second independent variable\n"
   ]
  },
  {
   "cell_type": "code",
   "execution_count": 8,
   "metadata": {},
   "outputs": [
    {
     "name": "stdout",
     "output_type": "stream",
     "text": [
      "X1: [1 2 3 4 5]\n",
      "X2: [ 1  4  6  8 10]\n",
      "Y: [0 0 1 1 1]\n",
      "Dataset:\n",
      "[[ 1  1  0]\n",
      " [ 2  4  0]\n",
      " [ 3  6  1]\n",
      " [ 4  8  1]\n",
      " [ 5 10  1]]\n"
     ]
    },
    {
     "ename": "IndexError",
     "evalue": "index 5 is out of bounds for axis 0 with size 5",
     "output_type": "error",
     "traceback": [
      "\u001b[1;31m---------------------------------------------------------------------------\u001b[0m",
      "\u001b[1;31mIndexError\u001b[0m                                Traceback (most recent call last)",
      "Cell \u001b[1;32mIn[8], line 34\u001b[0m\n\u001b[0;32m     31\u001b[0m \u001b[38;5;66;03m# Step 11: Start for loop for classifying input as either '0' or '1'\u001b[39;00m\n\u001b[0;32m     32\u001b[0m \u001b[38;5;28;01mfor\u001b[39;00m i \u001b[38;5;129;01min\u001b[39;00m \u001b[38;5;28mrange\u001b[39m(n):\n\u001b[0;32m     33\u001b[0m     \u001b[38;5;66;03m# Step 12: Append in 'p' as per the formula for logistic regression\u001b[39;00m\n\u001b[1;32m---> 34\u001b[0m     p_val \u001b[38;5;241m=\u001b[39m \u001b[38;5;241m1\u001b[39m \u001b[38;5;241m/\u001b[39m (\u001b[38;5;241m1\u001b[39m \u001b[38;5;241m+\u001b[39m np\u001b[38;5;241m.\u001b[39mexp(\u001b[38;5;241m-\u001b[39m\u001b[38;5;241m1\u001b[39m \u001b[38;5;241m*\u001b[39m (b0 \u001b[38;5;241m+\u001b[39m b1 \u001b[38;5;241m*\u001b[39m \u001b[43mX1\u001b[49m\u001b[43m[\u001b[49m\u001b[43mi\u001b[49m\u001b[43m]\u001b[49m \u001b[38;5;241m+\u001b[39m b2 \u001b[38;5;241m*\u001b[39m X2[i])))\n\u001b[0;32m     35\u001b[0m     p\u001b[38;5;241m.\u001b[39mappend(p_val)\n\u001b[0;32m     37\u001b[0m     \u001b[38;5;66;03m# Step 16: Apply if and else to sort/remake 'p' as per threshold\u001b[39;00m\n",
      "\u001b[1;31mIndexError\u001b[0m: index 5 is out of bounds for axis 0 with size 5"
     ]
    }
   ],
   "source": [
    "\n",
    "Y = np.array([0, 0, 1, 1, 1])  # Dependent variable\n",
    "\n",
    "# Step 3: Print X1, X2\n",
    "print(\"X1:\", X1)\n",
    "print(\"X2:\", X2)\n",
    "\n",
    "# Step 4: Print Y\n",
    "print(\"Y:\", Y)\n",
    "\n",
    "# Step 5: Display as array X1, X2, and Y\n",
    "dataset = np.column_stack((X1, X2, Y))\n",
    "print(\"Dataset:\")\n",
    "print(dataset)\n",
    "\n",
    "# Step 6: Initialize intercept b0 = 0\n",
    "b0 = 0\n",
    "\n",
    "# Step 7: Initialize logistic coefficients b1, b2\n",
    "b1 = 0\n",
    "b2 = 0\n",
    "\n",
    "# Step 8: Initialize threshold s = 0.3/0.4/0.6 any between 0 to 1 ONLY\n",
    "threshold = 0.6\n",
    "\n",
    "# Step 9: Create empty list 'p' for prediction\n",
    "p = []\n",
    "\n",
    "# Step 10: Create empty list 'pc' for prediction class\n",
    "pc = []\n",
    "\n",
    "# Step 11: Start for loop for classifying input as either '0' or '1'\n",
    "for i in range(n):\n",
    "    # Step 12: Append in 'p' as per the formula for logistic regression\n",
    "    p_val = 1 / (1 + np.exp(-1 * (b0 + b1 * X1[i] + b2 * X2[i])))\n",
    "    p.append(p_val)\n",
    "\n",
    "    # Step 16: Apply if and else to sort/remake 'p' as per threshold\n",
    "    if p_val >= threshold:\n",
    "        pc.append(1)\n",
    "    else:\n",
    "        pc.append(0)\n",
    "\n",
    "# Step 17: Print X1, X2 Actual Class, Prediction, Predicted Class\n",
    "for i in range(n):\n",
    "    print(f\"X1: {X1[i]}, X2: {X2[i]}, Actual Class: {Y[i]}, Prediction: {p[i]}, Predicted Class: {pc[i]}\")\n",
    "\n",
    "# Step 18: For loop for n items.\n",
    "# Step 19: Display dataset with prediction and predicted class\n",
    "plt.scatter(X1, X2, c=Y, label='Actual Class')\n",
    "plt.scatter(X1, X2, c=pc, marker='x', label='Predicted Class')\n",
    "plt.xlabel('X1')\n",
    "plt.ylabel('X2')\n",
    "plt.legend()\n",
    "plt.show()"
   ]
  }
 ],
 "metadata": {
  "kernelspec": {
   "display_name": "Python 3",
   "language": "python",
   "name": "python3"
  },
  "language_info": {
   "codemirror_mode": {
    "name": "ipython",
    "version": 3
   },
   "file_extension": ".py",
   "mimetype": "text/x-python",
   "name": "python",
   "nbconvert_exporter": "python",
   "pygments_lexer": "ipython3",
   "version": "3.12.1"
  }
 },
 "nbformat": 4,
 "nbformat_minor": 2
}
